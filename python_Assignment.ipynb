{
  "nbformat": 4,
  "nbformat_minor": 0,
  "metadata": {
    "colab": {
      "name": "python Assignment.ipynb",
      "provenance": [],
      "collapsed_sections": [],
      "authorship_tag": "ABX9TyMTE85rR2NzNaO8cGwe+2vT",
      "include_colab_link": true
    },
    "kernelspec": {
      "name": "python3",
      "display_name": "Python 3"
    }
  },
  "cells": [
    {
      "cell_type": "markdown",
      "metadata": {
        "id": "view-in-github",
        "colab_type": "text"
      },
      "source": [
        "<a href=\"https://colab.research.google.com/github/artiagra/Board-Infinity/blob/master/python_Assignment.ipynb\" target=\"_parent\"><img src=\"https://colab.research.google.com/assets/colab-badge.svg\" alt=\"Open In Colab\"/></a>"
      ]
    },
    {
      "cell_type": "code",
      "metadata": {
        "id": "-8ZivjQo01ZS",
        "colab_type": "code",
        "outputId": "c8e107d6-7152-4dec-e819-66a5eaeb71ce",
        "colab": {
          "base_uri": "https://localhost:8080/",
          "height": 67
        }
      },
      "source": [
        "#Write a Python program which accepts the radius of a circle from the user and compute the area.\n",
        "\n",
        "print('enter radius of circle')\n",
        "radius = float(input())\n",
        "\n",
        "area = radius * radius\n",
        "print('area of circle is',area)"
      ],
      "execution_count": 0,
      "outputs": [
        {
          "output_type": "stream",
          "text": [
            "enter radius of circle\n",
            "3\n",
            "area of circle is 9.0\n"
          ],
          "name": "stdout"
        }
      ]
    },
    {
      "cell_type": "code",
      "metadata": {
        "id": "PE1qH_Pk16l8",
        "colab_type": "code",
        "outputId": "2eb1a703-16c2-461e-a06c-4ee19951755f",
        "colab": {
          "base_uri": "https://localhost:8080/",
          "height": 101
        }
      },
      "source": [
        "#Write a Python program which accepts the user's first and last name and print them in reverse order with a space between them.\n",
        "\n",
        "print('enter first name')\n",
        "first_name = input()\n",
        "print('enter last name')\n",
        "last_name = input()\n",
        "\n",
        "print(last_name,first_name)"
      ],
      "execution_count": 0,
      "outputs": [
        {
          "output_type": "stream",
          "text": [
            "enter first name\n",
            "Arti\n",
            "enter last name\n",
            "Agrahari\n",
            "Agrahari Arti\n"
          ],
          "name": "stdout"
        }
      ]
    },
    {
      "cell_type": "code",
      "metadata": {
        "id": "2JbxA7wV2xpl",
        "colab_type": "code",
        "outputId": "fd7965d0-b4f1-45cb-d0cb-058ad6992cac",
        "colab": {
          "base_uri": "https://localhost:8080/",
          "height": 67
        }
      },
      "source": [
        "#Write a Python program which checks if the input number is divisible by 3 or not.\n",
        "\n",
        "print('enter a number')\n",
        "num = int(input())\n",
        "\n",
        "if num % 3 == 0:\n",
        "  print(num,'is divisible by 3')\n",
        "else:\n",
        "  print(num,'not divisible by 3')"
      ],
      "execution_count": 0,
      "outputs": [
        {
          "output_type": "stream",
          "text": [
            "enter a number\n",
            "4\n",
            "4 not divisible by 3\n"
          ],
          "name": "stdout"
        }
      ]
    },
    {
      "cell_type": "code",
      "metadata": {
        "id": "kBJceLTKd2j_",
        "colab_type": "code",
        "colab": {
          "base_uri": "https://localhost:8080/",
          "height": 134
        },
        "outputId": "20c42677-bea5-4f69-99b9-a9f02431768c"
      },
      "source": [
        "#Write a Python program to implement 5 functions of the math module\n",
        "import math\n",
        "\n",
        "x = 10\n",
        "y = -15\n",
        "print('The value of x after copying the sign from y is: ' + str(math.copysign(x, y)))\n",
        "\n",
        "print('Absolute value of -96 and 56 are: ' + str(math.fabs(-96)) + ', ' + str(math.fabs(56)))\n",
        "\n",
        "my_list = [12, 4.25, 89, 3.02, -65.23, -7.2, 6.3]\n",
        "print('Sum of the elements of the list: ' + str(math.fsum(my_list)))\n",
        "\n",
        "print('The GCD of 24 and 56 : ' + str(math.gcd(24, 56)))\n",
        "\n",
        "x = float('inf')\n",
        "y = 45\n",
        "if math.isinf(x):\n",
        "    print('It is Infinity')\n",
        "\n",
        "print(math.isfinite(x)) #x is not a finite number\n",
        "print(math.isfinite(y)) #y is a finite number"
      ],
      "execution_count": 11,
      "outputs": [
        {
          "output_type": "stream",
          "text": [
            "The value of x after copying the sign from y is: -10.0\n",
            "Absolute value of -96 and 56 are: 96.0, 56.0\n",
            "Sum of the elements of the list: 42.13999999999999\n",
            "The GCD of 24 and 56 : 8\n",
            "It is Infinity\n",
            "False\n",
            "True\n"
          ],
          "name": "stdout"
        }
      ]
    },
    {
      "cell_type": "code",
      "metadata": {
        "id": "PYODnt8E38QV",
        "colab_type": "code",
        "outputId": "87c29ac3-73eb-45de-9814-c7773b851233",
        "colab": {
          "base_uri": "https://localhost:8080/",
          "height": 67
        }
      },
      "source": [
        "#WAP to do a sum of squares.\n",
        "\n",
        "print('enter a number')\n",
        "n = int(input())\n",
        "\n",
        "sum = 0\n",
        "for i in range(n+1):\n",
        "  sum = sum + (i*i)\n",
        "\n",
        "print('sum of squares',sum)"
      ],
      "execution_count": 0,
      "outputs": [
        {
          "output_type": "stream",
          "text": [
            "enter a number\n",
            "5\n",
            "sum of squares 55\n"
          ],
          "name": "stdout"
        }
      ]
    },
    {
      "cell_type": "code",
      "metadata": {
        "id": "p4jXuWtVKWFo",
        "colab_type": "code",
        "colab": {
          "base_uri": "https://localhost:8080/",
          "height": 67
        },
        "outputId": "603de40b-ad62-4618-b0ef-57c2532d534f"
      },
      "source": [
        "#Write a void function that receives a 4 digit number and calculates the sum of squares of first 2 digits number and last two-digit number\n",
        "\n",
        "print('Enter a 4 digit number')\n",
        "num = input()\n",
        "\n",
        "first = int(num[:2]) \n",
        "second = int(num[2:])\n",
        "\n",
        "s_square = (first * first) + (second * second)\n",
        "\n",
        "print(s_square)"
      ],
      "execution_count": 2,
      "outputs": [
        {
          "output_type": "stream",
          "text": [
            "Enter a 4 digit number\n",
            "1234\n",
            "1300\n"
          ],
          "name": "stdout"
        }
      ]
    },
    {
      "cell_type": "code",
      "metadata": {
        "id": "q4F3YjN_Zsil",
        "colab_type": "code",
        "colab": {
          "base_uri": "https://localhost:8080/",
          "height": 50
        },
        "outputId": "76527c48-48e5-452d-a120-ac055b51f3a6"
      },
      "source": [
        "#Write a function that takes one argument (a +ve int) and report if the argument is prime or not.WAP that invokes this function.\n",
        "\n",
        "number = abs(int(input(\"Enter any Number: \")))\n",
        "\n",
        "def test_prime(n):\n",
        "    if (n==1):\n",
        "        return False\n",
        "    elif (n==2):\n",
        "        return True;\n",
        "    else:\n",
        "        for x in range(2,n):\n",
        "            if(n % x==0):\n",
        "                return False\n",
        "        return True  \n",
        "\n",
        "if test_prime(number):\n",
        "  print('Number is prime')\n",
        "else:\n",
        "  print('Not a prime number')"
      ],
      "execution_count": 4,
      "outputs": [
        {
          "output_type": "stream",
          "text": [
            "Enter any Number: 7\n",
            "Number is prime\n"
          ],
          "name": "stdout"
        }
      ]
    },
    {
      "cell_type": "code",
      "metadata": {
        "id": "iSuBXp1eSt4i",
        "colab_type": "code",
        "colab": {
          "base_uri": "https://localhost:8080/",
          "height": 50
        },
        "outputId": "5c83d3a9-e7bd-4849-9973-2d3fe29b3ff5"
      },
      "source": [
        "#WAP that takes a character (i.e a string of length 1) and returns TRUE if it is a vowel, FALSE otherwise.\n",
        "\n",
        "inp_char = input('Please enter a character:')\n",
        "\n",
        "def is_vowel(char):\n",
        "    all_vowels = 'aeiou'\n",
        "    return char in all_vowels\n",
        "\n",
        "print(is_vowel(inp_char))\n"
      ],
      "execution_count": 7,
      "outputs": [
        {
          "output_type": "stream",
          "text": [
            "Please enter a character:b\n",
            "False\n"
          ],
          "name": "stdout"
        }
      ]
    },
    {
      "cell_type": "code",
      "metadata": {
        "id": "4ahi3f_kRfq0",
        "colab_type": "code",
        "colab": {
          "base_uri": "https://localhost:8080/",
          "height": 50
        },
        "outputId": "f4067b96-9dc9-43ae-af29-58654687970a"
      },
      "source": [
        "#WAP to get the last digit cube.\n",
        "\n",
        "number = int(input(\"Enter any Number: \"))\n",
        "\n",
        "last_digit = number % 10\n",
        "\n",
        "cube = last_digit * last_digit * last_digit\n",
        "\n",
        "print(\"The cube of last digit : %d\" %( cube))"
      ],
      "execution_count": 4,
      "outputs": [
        {
          "output_type": "stream",
          "text": [
            "Enter any Number: 123\n",
            "The cube of last digit : 27\n"
          ],
          "name": "stdout"
        }
      ]
    },
    {
      "cell_type": "code",
      "metadata": {
        "id": "CVJ5gJdz_8PC",
        "colab_type": "code",
        "colab": {
          "base_uri": "https://localhost:8080/",
          "height": 34
        },
        "outputId": "687587ce-4b0d-45c0-b623-40d575a3882a"
      },
      "source": [
        "#Write a Python program that takes a list and returns a new list with unique elements of the first list.\n",
        "\n",
        "def unique_list(l):\n",
        "  x = []\n",
        "  for i in l:\n",
        "    if i not in x:\n",
        "      x.append(i)\n",
        "  return x\n",
        "\n",
        "print(unique_list([2,13,34,22,22,13,7])) "
      ],
      "execution_count": 2,
      "outputs": [
        {
          "output_type": "stream",
          "text": [
            "[2, 13, 34, 22, 7]\n"
          ],
          "name": "stdout"
        }
      ]
    },
    {
      "cell_type": "code",
      "metadata": {
        "id": "6woIzyMqRXKq",
        "colab_type": "code",
        "colab": {}
      },
      "source": [
        ""
      ],
      "execution_count": 0,
      "outputs": []
    }
  ]
}