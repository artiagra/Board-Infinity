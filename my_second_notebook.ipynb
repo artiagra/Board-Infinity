{
  "nbformat": 4,
  "nbformat_minor": 0,
  "metadata": {
    "colab": {
      "name": "my second notebook.ipynb",
      "provenance": [],
      "authorship_tag": "ABX9TyPOdR1vxJK3o9V6+oSYJBQC",
      "include_colab_link": true
    },
    "kernelspec": {
      "name": "python3",
      "display_name": "Python 3"
    },
    "accelerator": "GPU"
  },
  "cells": [
    {
      "cell_type": "markdown",
      "metadata": {
        "id": "view-in-github",
        "colab_type": "text"
      },
      "source": [
        "<a href=\"https://colab.research.google.com/github/artiagra/Board-Infinity/blob/master/my_second_notebook.ipynb\" target=\"_parent\"><img src=\"https://colab.research.google.com/assets/colab-badge.svg\" alt=\"Open In Colab\"/></a>"
      ]
    },
    {
      "cell_type": "code",
      "metadata": {
        "id": "rrWeQKrARm1f",
        "colab_type": "code",
        "colab": {}
      },
      "source": [
        ""
      ],
      "execution_count": 0,
      "outputs": []
    },
    {
      "cell_type": "markdown",
      "metadata": {
        "id": "PXDO_cU1SEpW",
        "colab_type": "text"
      },
      "source": [
        "My Name is Arti Agrahari\n",
        "\n",
        "I live in Sanpada, Navi Mumbai\n",
        "\n",
        "I hold Masters degree in Computer Engineering\n",
        "\n",
        "I work at Dow Chemicals\n",
        "\n",
        "My role is Information Systems Analyst"
      ]
    },
    {
      "cell_type": "markdown",
      "metadata": {
        "id": "AEybWx6uTANi",
        "colab_type": "text"
      },
      "source": [
        "I want to be a data scientist to learn and earn more!"
      ]
    },
    {
      "cell_type": "code",
      "metadata": {
        "id": "tSrxEWDdTHZA",
        "colab_type": "code",
        "colab": {}
      },
      "source": [
        "firstname = 'Arti'\n",
        "lastname = 'Agrahari'\n",
        "cityName = 'Mumbai'"
      ],
      "execution_count": 0,
      "outputs": []
    },
    {
      "cell_type": "code",
      "metadata": {
        "id": "DqYwa_ypTVMF",
        "colab_type": "code",
        "colab": {}
      },
      "source": [
        "age = 25\n",
        "height = 155"
      ],
      "execution_count": 0,
      "outputs": []
    },
    {
      "cell_type": "code",
      "metadata": {
        "id": "I4dPui8GTfHa",
        "colab_type": "code",
        "colab": {}
      },
      "source": [
        "tenth_grade = 92.2\n",
        "twelth_grade = 83.33"
      ],
      "execution_count": 0,
      "outputs": []
    },
    {
      "cell_type": "code",
      "metadata": {
        "id": "Yc3OTC8rTpwA",
        "colab_type": "code",
        "colab": {}
      },
      "source": [
        "favorite_numbers = [7,92.2,25,5,83.33]"
      ],
      "execution_count": 0,
      "outputs": []
    },
    {
      "cell_type": "code",
      "metadata": {
        "id": "-KRzLPi9T3_y",
        "colab_type": "code",
        "colab": {}
      },
      "source": [
        "my_friends = ['Laxmi','Praju','Prishi','Jerry','Kiran']"
      ],
      "execution_count": 0,
      "outputs": []
    },
    {
      "cell_type": "code",
      "metadata": {
        "id": "M9RMFz-WUIdY",
        "colab_type": "code",
        "colab": {
          "base_uri": "https://localhost:8080/",
          "height": 34
        },
        "outputId": "a7240e8b-ed91-4efb-90d8-b1c8fe918649"
      },
      "source": [
        "my_friends[0]"
      ],
      "execution_count": 7,
      "outputs": [
        {
          "output_type": "execute_result",
          "data": {
            "text/plain": [
              "'Laxmi'"
            ]
          },
          "metadata": {
            "tags": []
          },
          "execution_count": 7
        }
      ]
    },
    {
      "cell_type": "code",
      "metadata": {
        "id": "K0lSyYDCUMVI",
        "colab_type": "code",
        "colab": {
          "base_uri": "https://localhost:8080/",
          "height": 34
        },
        "outputId": "d3aa52f6-c7d6-4aaf-aa11-005868af91f9"
      },
      "source": [
        "favorite_numbers[0]"
      ],
      "execution_count": 8,
      "outputs": [
        {
          "output_type": "execute_result",
          "data": {
            "text/plain": [
              "7"
            ]
          },
          "metadata": {
            "tags": []
          },
          "execution_count": 8
        }
      ]
    },
    {
      "cell_type": "code",
      "metadata": {
        "id": "qDMxhvnDUU7W",
        "colab_type": "code",
        "colab": {}
      },
      "source": [
        "myself = {\n",
        "    'date_of_birth' : '14/06/1994',\n",
        "    'favourite_color' : 'Blue',\n",
        "    'age' : 25,\n",
        "    'gender' : 'female',\n",
        "    'name' : 'Arti Agrahari',\n",
        "    'favourite_song' : 'jab koi bat bigad jaye'\n",
        "}"
      ],
      "execution_count": 0,
      "outputs": []
    },
    {
      "cell_type": "code",
      "metadata": {
        "id": "QZEMVA40U89F",
        "colab_type": "code",
        "colab": {
          "base_uri": "https://localhost:8080/",
          "height": 50
        },
        "outputId": "ee9213c7-3292-42d8-bc98-fbf523592d17"
      },
      "source": [
        "print(myself['name'])\n",
        "print(myself['gender'])"
      ],
      "execution_count": 10,
      "outputs": [
        {
          "output_type": "stream",
          "text": [
            "Arti Agrahari\n",
            "female\n"
          ],
          "name": "stdout"
        }
      ]
    },
    {
      "cell_type": "code",
      "metadata": {
        "id": "DOuG4cAWVGd2",
        "colab_type": "code",
        "colab": {}
      },
      "source": [
        "myself['vegetarian'] = False"
      ],
      "execution_count": 0,
      "outputs": []
    },
    {
      "cell_type": "code",
      "metadata": {
        "id": "qoWbDquSaCL2",
        "colab_type": "code",
        "colab": {
          "base_uri": "https://localhost:8080/",
          "height": 34
        },
        "outputId": "bad3f996-2310-4274-90f0-6980cd5bd92b"
      },
      "source": [
        "myself.keys()"
      ],
      "execution_count": 12,
      "outputs": [
        {
          "output_type": "execute_result",
          "data": {
            "text/plain": [
              "dict_keys(['date_of_birth', 'favourite_color', 'age', 'gender', 'name', 'favourite_song', 'vegetarian'])"
            ]
          },
          "metadata": {
            "tags": []
          },
          "execution_count": 12
        }
      ]
    },
    {
      "cell_type": "code",
      "metadata": {
        "id": "w8mr4cehaJST",
        "colab_type": "code",
        "colab": {}
      },
      "source": [
        ""
      ],
      "execution_count": 0,
      "outputs": []
    }
  ]
}