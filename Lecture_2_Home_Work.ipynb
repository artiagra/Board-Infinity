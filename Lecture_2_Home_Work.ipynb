{
  "nbformat": 4,
  "nbformat_minor": 0,
  "metadata": {
    "colab": {
      "name": "Lecture 2 Home Work.ipynb",
      "provenance": [],
      "collapsed_sections": [],
      "authorship_tag": "ABX9TyO0sbm9CP0PKEBdgGqLcRQI",
      "include_colab_link": true
    },
    "kernelspec": {
      "name": "python3",
      "display_name": "Python 3"
    }
  },
  "cells": [
    {
      "cell_type": "markdown",
      "metadata": {
        "id": "view-in-github",
        "colab_type": "text"
      },
      "source": [
        "<a href=\"https://colab.research.google.com/github/artiagra/Board-Infinity/blob/master/Lecture_2_Home_Work.ipynb\" target=\"_parent\"><img src=\"https://colab.research.google.com/assets/colab-badge.svg\" alt=\"Open In Colab\"/></a>"
      ]
    },
    {
      "cell_type": "code",
      "metadata": {
        "id": "573kmE1x6BAO",
        "colab_type": "code",
        "colab": {}
      },
      "source": [
        ""
      ],
      "execution_count": 0,
      "outputs": []
    },
    {
      "cell_type": "markdown",
      "metadata": {
        "id": "8fE-nCj-6Zbs",
        "colab_type": "text"
      },
      "source": [
        "Task 1"
      ]
    },
    {
      "cell_type": "code",
      "metadata": {
        "id": "BCO4LC5I6bR7",
        "colab_type": "code",
        "outputId": "feea92e6-1a4e-4f3a-ea71-f70dd4f56161",
        "colab": {
          "base_uri": "https://localhost:8080/",
          "height": 67
        }
      },
      "source": [
        "print(\"Please enter your age\")\n",
        "age = int(input())\n",
        "\n",
        "if age > 18:\n",
        "  print('Adult')\n",
        "else:\n",
        "  print('Teenager')"
      ],
      "execution_count": 0,
      "outputs": [
        {
          "output_type": "stream",
          "text": [
            "Please enter your age\n",
            "25\n",
            "Adult\n"
          ],
          "name": "stdout"
        }
      ]
    },
    {
      "cell_type": "code",
      "metadata": {
        "id": "UJL2JbRA7H49",
        "colab_type": "code",
        "outputId": "700f3bfd-4bca-455c-8120-2a3b7b2b22fc",
        "colab": {
          "base_uri": "https://localhost:8080/",
          "height": 101
        }
      },
      "source": [
        "print('Enter your monthly income')\n",
        "income = int(input())\n",
        "\n",
        "print('Do you have ongoing loan, Yes or No')\n",
        "ongoing_loan = input()\n",
        "\n",
        "if income > 100000:\n",
        "  if ongoing_loan == 'Yes':\n",
        "    print('Congrats, You are eligible for loan')\n",
        "  else:\n",
        "    print('Sorry, you are not eligible')\n",
        "else:\n",
        "  print('Sorry, not eligible')"
      ],
      "execution_count": 0,
      "outputs": [
        {
          "output_type": "stream",
          "text": [
            "Enter your monthly income\n",
            "40000\n",
            "Do you have ongoing loan, Yes or No\n",
            "no\n",
            "Sorry, not eligible\n"
          ],
          "name": "stdout"
        }
      ]
    },
    {
      "cell_type": "code",
      "metadata": {
        "id": "LZYe9zt3-jlI",
        "colab_type": "code",
        "outputId": "bc4e6149-0fe0-4b3b-cfea-e985e3b168c6",
        "colab": {
          "base_uri": "https://localhost:8080/",
          "height": 67
        }
      },
      "source": [
        "print('are you a girl, enter yes or no')\n",
        "girl = input()\n",
        "\n",
        "if girl == 'yes':\n",
        "  print('You are a girl')\n",
        "else:\n",
        "  print('You are a boy')"
      ],
      "execution_count": 0,
      "outputs": [
        {
          "output_type": "stream",
          "text": [
            "are you a girl, enter yes or no\n",
            "yes\n",
            "You are a girl\n"
          ],
          "name": "stdout"
        }
      ]
    },
    {
      "cell_type": "markdown",
      "metadata": {
        "id": "WtmuG6UO9ugo",
        "colab_type": "text"
      },
      "source": [
        "Task 2"
      ]
    },
    {
      "cell_type": "code",
      "metadata": {
        "id": "PPmo3O3hBEpr",
        "colab_type": "code",
        "colab": {
          "base_uri": "https://localhost:8080/",
          "height": 151
        },
        "outputId": "4560d12c-a8e5-4a28-84a3-9c476dcc4a58"
      },
      "source": [
        "random_numbers = [3,5,3,2,6,8,4,1]\n",
        "\n",
        "for i in random_numbers:\n",
        "  print(i)"
      ],
      "execution_count": 1,
      "outputs": [
        {
          "output_type": "stream",
          "text": [
            "3\n",
            "5\n",
            "3\n",
            "2\n",
            "6\n",
            "8\n",
            "4\n",
            "1\n"
          ],
          "name": "stdout"
        }
      ]
    },
    {
      "cell_type": "code",
      "metadata": {
        "id": "c4XxOFGB-APv",
        "colab_type": "code",
        "colab": {
          "base_uri": "https://localhost:8080/",
          "height": 84
        },
        "outputId": "cb029ac6-8010-4160-a5b2-37c78bf13037"
      },
      "source": [
        "for i in random_numbers:\n",
        "  if i%2 == 0:\n",
        "    print(i)"
      ],
      "execution_count": 2,
      "outputs": [
        {
          "output_type": "stream",
          "text": [
            "2\n",
            "6\n",
            "8\n",
            "4\n"
          ],
          "name": "stdout"
        }
      ]
    },
    {
      "cell_type": "code",
      "metadata": {
        "id": "VUgEviA7-c0Z",
        "colab_type": "code",
        "colab": {
          "base_uri": "https://localhost:8080/",
          "height": 84
        },
        "outputId": "077a70ab-556f-4e2e-aba8-846bac3271e0"
      },
      "source": [
        "myself = {\n",
        "    'name' : 'Arti Agrahari',\n",
        "    'age' : 25,\n",
        "    'gender' : 'female',\n",
        "    'favourite food' : 'Fish Curry and Rice'\n",
        "}\n",
        "\n",
        "for i in myself.keys():\n",
        "  print(i)"
      ],
      "execution_count": 11,
      "outputs": [
        {
          "output_type": "stream",
          "text": [
            "name\n",
            "age\n",
            "gender\n",
            "favourite food\n"
          ],
          "name": "stdout"
        }
      ]
    },
    {
      "cell_type": "code",
      "metadata": {
        "id": "x6mpXaKm_TpC",
        "colab_type": "code",
        "colab": {
          "base_uri": "https://localhost:8080/",
          "height": 84
        },
        "outputId": "5edd6b3a-1e17-4a28-cb97-4dfa7638711d"
      },
      "source": [
        "myself = {\n",
        "    'name' : 'Arti Agrahari',\n",
        "    'age' : 25,\n",
        "    'gender' : 'female',\n",
        "    'favourite food' : 'Fish Curry and Rice'\n",
        "}\n",
        "\n",
        "for i in myself.values():\n",
        "  print(i)"
      ],
      "execution_count": 12,
      "outputs": [
        {
          "output_type": "stream",
          "text": [
            "Arti Agrahari\n",
            "25\n",
            "female\n",
            "Fish Curry and Rice\n"
          ],
          "name": "stdout"
        }
      ]
    },
    {
      "cell_type": "markdown",
      "metadata": {
        "id": "JaqxQBQNBKvS",
        "colab_type": "text"
      },
      "source": [
        "Task 3"
      ]
    },
    {
      "cell_type": "code",
      "metadata": {
        "id": "bnmJ4fDXBA6Z",
        "colab_type": "code",
        "colab": {
          "base_uri": "https://localhost:8080/",
          "height": 34
        },
        "outputId": "4e030ed4-3c7d-4f73-8ae0-7ee796683e2e"
      },
      "source": [
        "def print_name(name):\n",
        "  return name\n",
        "\n",
        "print(print_name('Arti Agrahari'))"
      ],
      "execution_count": 14,
      "outputs": [
        {
          "output_type": "stream",
          "text": [
            "Arti Agrahari\n"
          ],
          "name": "stdout"
        }
      ]
    },
    {
      "cell_type": "code",
      "metadata": {
        "id": "EvTq-UrnBs7M",
        "colab_type": "code",
        "colab": {
          "base_uri": "https://localhost:8080/",
          "height": 84
        },
        "outputId": "7c69827a-527b-4a97-e6ae-373b14630792"
      },
      "source": [
        "def dict_keys(dict):\n",
        "  for i in dict.keys():\n",
        "    print(i)\n",
        "\n",
        "dict_keys(myself)"
      ],
      "execution_count": 19,
      "outputs": [
        {
          "output_type": "stream",
          "text": [
            "name\n",
            "age\n",
            "gender\n",
            "favourite food\n"
          ],
          "name": "stdout"
        }
      ]
    },
    {
      "cell_type": "code",
      "metadata": {
        "id": "242TIfifCMaO",
        "colab_type": "code",
        "colab": {
          "base_uri": "https://localhost:8080/",
          "height": 302
        },
        "outputId": "8aa1568d-084d-4266-de4b-104a5276d8c9"
      },
      "source": [
        "def print_odd():\n",
        "  num = []\n",
        "  print('Enter 10 random numbers')\n",
        "  for ran in range(10):\n",
        "    ran = int(input())\n",
        "    num.append(ran)\n",
        "\n",
        "  print('Odd numbers')\n",
        "  for i in num:\n",
        "    if i%2 != 0:\n",
        "      print(i)\n",
        "\n",
        "print_odd()"
      ],
      "execution_count": 25,
      "outputs": [
        {
          "output_type": "stream",
          "text": [
            "Enter 10 random numbers\n",
            "1\n",
            "45\n",
            "32\n",
            "78\n",
            "24\n",
            "79\n",
            "49\n",
            "2\n",
            "5\n",
            "6\n",
            "Odd numbers\n",
            "1\n",
            "45\n",
            "79\n",
            "49\n",
            "5\n"
          ],
          "name": "stdout"
        }
      ]
    },
    {
      "cell_type": "markdown",
      "metadata": {
        "id": "VNR7bGPuEVqF",
        "colab_type": "text"
      },
      "source": [
        "Task 4"
      ]
    },
    {
      "cell_type": "code",
      "metadata": {
        "id": "yat3JrfzDfHy",
        "colab_type": "code",
        "colab": {
          "base_uri": "https://localhost:8080/",
          "height": 84
        },
        "outputId": "7629b71f-8212-4cef-bb5c-fd1ad6485e4f"
      },
      "source": [
        "num = '67'\n",
        "age = 25\n",
        "grade = 9.21\n",
        "female = True\n",
        "\n",
        "print(type(num))\n",
        "print(type(age))\n",
        "print(type(grade))\n",
        "print(type(female))"
      ],
      "execution_count": 31,
      "outputs": [
        {
          "output_type": "stream",
          "text": [
            "<class 'str'>\n",
            "<class 'int'>\n",
            "<class 'float'>\n",
            "<class 'bool'>\n"
          ],
          "name": "stdout"
        }
      ]
    },
    {
      "cell_type": "code",
      "metadata": {
        "id": "0A1Au51jE2DK",
        "colab_type": "code",
        "colab": {
          "base_uri": "https://localhost:8080/",
          "height": 84
        },
        "outputId": "dacf25ac-7cfd-46a8-b34e-37be40b71da2"
      },
      "source": [
        "age_float = float(age)\n",
        "num_int = int(num)\n",
        "age_str = str(age)\n",
        "female_str = str(female)\n",
        "\n",
        "print(type(age_float))\n",
        "print(type(num_int))\n",
        "print(type(age_str))\n",
        "print(type(female_str))"
      ],
      "execution_count": 32,
      "outputs": [
        {
          "output_type": "stream",
          "text": [
            "<class 'float'>\n",
            "<class 'int'>\n",
            "<class 'str'>\n",
            "<class 'str'>\n"
          ],
          "name": "stdout"
        }
      ]
    },
    {
      "cell_type": "code",
      "metadata": {
        "id": "je7iFGdOGOkp",
        "colab_type": "code",
        "colab": {
          "base_uri": "https://localhost:8080/",
          "height": 101
        },
        "outputId": "58e312c2-e652-4b2e-9fec-dd77a6c7f1e8"
      },
      "source": [
        "!pip install sklearn"
      ],
      "execution_count": 33,
      "outputs": [
        {
          "output_type": "stream",
          "text": [
            "Requirement already satisfied: sklearn in /usr/local/lib/python3.6/dist-packages (0.0)\n",
            "Requirement already satisfied: scikit-learn in /usr/local/lib/python3.6/dist-packages (from sklearn) (0.22.1)\n",
            "Requirement already satisfied: scipy>=0.17.0 in /usr/local/lib/python3.6/dist-packages (from scikit-learn->sklearn) (1.4.1)\n",
            "Requirement already satisfied: numpy>=1.11.0 in /usr/local/lib/python3.6/dist-packages (from scikit-learn->sklearn) (1.17.5)\n",
            "Requirement already satisfied: joblib>=0.11 in /usr/local/lib/python3.6/dist-packages (from scikit-learn->sklearn) (0.14.1)\n"
          ],
          "name": "stdout"
        }
      ]
    },
    {
      "cell_type": "code",
      "metadata": {
        "id": "xfLC6npAGYKO",
        "colab_type": "code",
        "colab": {
          "base_uri": "https://localhost:8080/",
          "height": 34
        },
        "outputId": "b395357b-7e2b-4162-95f6-c7f84bdc8bfd"
      },
      "source": [
        "from sklearn.ensemble import RandomForestClassifier\n",
        "\n",
        "print(RandomForestClassifier)\n"
      ],
      "execution_count": 35,
      "outputs": [
        {
          "output_type": "stream",
          "text": [
            "<class 'sklearn.ensemble._forest.RandomForestClassifier'>\n"
          ],
          "name": "stdout"
        }
      ]
    },
    {
      "cell_type": "code",
      "metadata": {
        "id": "5EnE5qTjHBp_",
        "colab_type": "code",
        "colab": {
          "base_uri": "https://localhost:8080/",
          "height": 34
        },
        "outputId": "54eb0344-ab75-4a5e-90d2-8f9c86fe081b"
      },
      "source": [
        "from sklearn.naive_bayes import GaussianNB\n",
        "\n",
        "print(GaussianNB)"
      ],
      "execution_count": 36,
      "outputs": [
        {
          "output_type": "stream",
          "text": [
            "<class 'sklearn.naive_bayes.GaussianNB'>\n"
          ],
          "name": "stdout"
        }
      ]
    },
    {
      "cell_type": "code",
      "metadata": {
        "id": "JhBmVXI8HZiH",
        "colab_type": "code",
        "colab": {
          "base_uri": "https://localhost:8080/",
          "height": 34
        },
        "outputId": "47a34a74-3867-4a39-c7f2-631ae35ca3bc"
      },
      "source": [
        "from sklearn.tree import DecisionTreeClassifier\n",
        "\n",
        "print(DecisionTreeClassifier)"
      ],
      "execution_count": 37,
      "outputs": [
        {
          "output_type": "stream",
          "text": [
            "<class 'sklearn.tree._classes.DecisionTreeClassifier'>\n"
          ],
          "name": "stdout"
        }
      ]
    },
    {
      "cell_type": "code",
      "metadata": {
        "id": "XKWr1QGcHj8v",
        "colab_type": "code",
        "colab": {
          "base_uri": "https://localhost:8080/",
          "height": 34
        },
        "outputId": "2cb7726c-a7cd-4c11-916d-f09d478f348a"
      },
      "source": [
        "from sklearn.linear_model import LinearRegression\n",
        "\n",
        "print(LinearRegression)"
      ],
      "execution_count": 38,
      "outputs": [
        {
          "output_type": "stream",
          "text": [
            "<class 'sklearn.linear_model._base.LinearRegression'>\n"
          ],
          "name": "stdout"
        }
      ]
    },
    {
      "cell_type": "code",
      "metadata": {
        "id": "ND0KwQGDHz8X",
        "colab_type": "code",
        "colab": {
          "base_uri": "https://localhost:8080/",
          "height": 34
        },
        "outputId": "ac86b1ac-7036-4c62-fc1e-702d7ec34be2"
      },
      "source": [
        "from sklearn.cluster import KMeans\n",
        "\n",
        "print(KMeans)"
      ],
      "execution_count": 40,
      "outputs": [
        {
          "output_type": "stream",
          "text": [
            "<class 'sklearn.cluster._kmeans.KMeans'>\n"
          ],
          "name": "stdout"
        }
      ]
    },
    {
      "cell_type": "code",
      "metadata": {
        "id": "pTsmJyrkH-bJ",
        "colab_type": "code",
        "colab": {
          "base_uri": "https://localhost:8080/",
          "height": 34
        },
        "outputId": "e8b57804-1334-4688-aa95-5a85c9eaafb9"
      },
      "source": [
        "from sklearn.model_selection import train_test_split\n",
        "\n",
        "print(train_test_split)"
      ],
      "execution_count": 41,
      "outputs": [
        {
          "output_type": "stream",
          "text": [
            "<function train_test_split at 0x7f5753b78b70>\n"
          ],
          "name": "stdout"
        }
      ]
    },
    {
      "cell_type": "code",
      "metadata": {
        "id": "jbK-ickOIUIJ",
        "colab_type": "code",
        "colab": {
          "base_uri": "https://localhost:8080/",
          "height": 34
        },
        "outputId": "906ffb28-6cff-43f8-a121-2f8dd9444d5b"
      },
      "source": [
        "from sklearn.metrics import classification_report\n",
        "\n",
        "print(classification_report)"
      ],
      "execution_count": 42,
      "outputs": [
        {
          "output_type": "stream",
          "text": [
            "<function classification_report at 0x7f5755c33d90>\n"
          ],
          "name": "stdout"
        }
      ]
    },
    {
      "cell_type": "code",
      "metadata": {
        "id": "oB0kmUhiIuGW",
        "colab_type": "code",
        "colab": {
          "base_uri": "https://localhost:8080/",
          "height": 34
        },
        "outputId": "751e976e-e51b-40e4-e092-e862566e3fa6"
      },
      "source": [
        "from sklearn.metrics import accuracy_score\n",
        "\n",
        "print(accuracy_score)"
      ],
      "execution_count": 43,
      "outputs": [
        {
          "output_type": "stream",
          "text": [
            "<function accuracy_score at 0x7f5755c33488>\n"
          ],
          "name": "stdout"
        }
      ]
    },
    {
      "cell_type": "code",
      "metadata": {
        "id": "-Di9D1nII-1p",
        "colab_type": "code",
        "colab": {}
      },
      "source": [
        ""
      ],
      "execution_count": 0,
      "outputs": []
    }
  ]
}